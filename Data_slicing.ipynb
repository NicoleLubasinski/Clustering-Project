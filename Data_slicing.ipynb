{
 "cells": [
  {
   "cell_type": "code",
   "execution_count": 1,
   "metadata": {},
   "outputs": [],
   "source": [
    "import numpy as np\n",
    "from datetime import timedelta\n",
    "\n",
    "def slice_data(data, time_step, n_samples):\n",
    "    timestamp = np.array(data['glucose_level_ts'], dtype=float)\n",
    "    glucose = np.array(data['glucose_level_mg/dL'], dtype=float)\n",
    "    n_samples_per_segment = int(time_step * 60 / timedelta(minutes=1)) * n_samples\n",
    "    glucose_seg_ts = []\n",
    "    glucose_sliced = []\n",
    "    \n",
    "    for start_ts in data['bolus_start_ts']:\n",
    "        start_index = np.argmax(timestamp >= start_ts)\n",
    "        end_index = start_index + n_samples_per_segment\n",
    "        if end_index <= len(data):\n",
    "            glucose_seg_ts.append(timestamp[start_index:end_index])\n",
    "            glucose_sliced.append(glucose[start_index:end_index])\n",
    "    \n",
    "    return glucose_sliced, glucose_seg_ts\n"
   ]
  }
 ],
 "metadata": {
  "kernelspec": {
   "display_name": "Python 3.10.7 64-bit",
   "language": "python",
   "name": "python3"
  },
  "language_info": {
   "codemirror_mode": {
    "name": "ipython",
    "version": 3
   },
   "file_extension": ".py",
   "mimetype": "text/x-python",
   "name": "python",
   "nbconvert_exporter": "python",
   "pygments_lexer": "ipython3",
   "version": "3.10.7"
  },
  "orig_nbformat": 4,
  "vscode": {
   "interpreter": {
    "hash": "aee8b7b246df8f9039afb4144a1f6fd8d2ca17a180786b69acc140d282b71a49"
   }
  }
 },
 "nbformat": 4,
 "nbformat_minor": 2
}
