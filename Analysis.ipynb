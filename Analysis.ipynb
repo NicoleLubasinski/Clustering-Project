{
 "cells": [
  {
   "cell_type": "code",
   "execution_count": 3,
   "metadata": {},
   "outputs": [],
   "source": [
    "import pandas as pd\n",
    "import numpy as np\n",
    "import os\n",
    "from datetime import timedelta\n",
    "from scipy.signal import find_peaks\n",
    "import matplotlib.pyplot as plt\n",
    "import matplotlib.dates as mdates"
   ]
  },
  {
   "cell_type": "code",
   "execution_count": 4,
   "metadata": {},
   "outputs": [],
   "source": [
    "import data_slice\n",
    "import data_preprocessing\n",
    "import find_peaks"
   ]
  },
  {
   "cell_type": "code",
   "execution_count": 7,
   "metadata": {},
   "outputs": [
    {
     "ename": "TypeError",
     "evalue": "unsupported operand type(s) for /: 'float' and 'datetime.timedelta'",
     "output_type": "error",
     "traceback": [
      "\u001b[0;31m---------------------------------------------------------------------------\u001b[0m",
      "\u001b[0;31mTypeError\u001b[0m                                 Traceback (most recent call last)",
      "Cell \u001b[0;32mIn [7], line 8\u001b[0m\n\u001b[1;32m      5\u001b[0m time_step \u001b[38;5;241m=\u001b[39m data[\u001b[38;5;124m'\u001b[39m\u001b[38;5;124mglucose_level_ts\u001b[39m\u001b[38;5;124m'\u001b[39m]\u001b[38;5;241m.\u001b[39mdiff()\u001b[38;5;241m.\u001b[39mmode()[\u001b[38;5;241m0\u001b[39m] \u001b[38;5;241m/\u001b[39m timedelta(minutes\u001b[38;5;241m=\u001b[39m\u001b[38;5;241m1\u001b[39m)\n\u001b[1;32m      6\u001b[0m elements_per_4hours \u001b[38;5;241m=\u001b[39m \u001b[38;5;241m48\u001b[39m\n\u001b[0;32m----> 8\u001b[0m glucose_sliced, glucose_seg_ts \u001b[38;5;241m=\u001b[39m data_slice\u001b[38;5;241m.\u001b[39mslice_data(data, time_step, elements_per_4hours)\n\u001b[1;32m     10\u001b[0m isolate_segment \u001b[38;5;241m=\u001b[39m find_peaks\u001b[38;5;241m.\u001b[39misolate_segment(glucose_sliced, glucose_seg_ts)\n\u001b[1;32m     12\u001b[0m find_peaks\u001b[38;5;241m.\u001b[39mplot_glucose_segment(glucose_seg_ts[\u001b[38;5;241m2\u001b[39m], glucose_sliced)\n",
      "File \u001b[0;32m~/Desktop/Clustering_Project/data_slice.py:7\u001b[0m, in \u001b[0;36mslice_data\u001b[0;34m(data, time_step, n_samples)\u001b[0m\n\u001b[1;32m      5\u001b[0m timestamp \u001b[39m=\u001b[39m np\u001b[39m.\u001b[39marray(data[\u001b[39m'\u001b[39m\u001b[39mglucose_level_ts\u001b[39m\u001b[39m'\u001b[39m], dtype\u001b[39m=\u001b[39m\u001b[39mfloat\u001b[39m)\n\u001b[1;32m      6\u001b[0m glucose \u001b[39m=\u001b[39m np\u001b[39m.\u001b[39marray(data[\u001b[39m'\u001b[39m\u001b[39mglucose_level_mg/dL\u001b[39m\u001b[39m'\u001b[39m], dtype\u001b[39m=\u001b[39m\u001b[39mfloat\u001b[39m)\n\u001b[0;32m----> 7\u001b[0m n_samples_per_segment \u001b[39m=\u001b[39m \u001b[39mint\u001b[39m(time_step \u001b[39m*\u001b[39;49m \u001b[39m60\u001b[39;49m \u001b[39m/\u001b[39;49m timedelta(minutes\u001b[39m=\u001b[39;49m\u001b[39m1\u001b[39;49m)) \u001b[39m*\u001b[39m n_samples\n\u001b[1;32m      8\u001b[0m glucose_seg_ts \u001b[39m=\u001b[39m []\n\u001b[1;32m      9\u001b[0m glucose_sliced \u001b[39m=\u001b[39m []\n",
      "\u001b[0;31mTypeError\u001b[0m: unsupported operand type(s) for /: 'float' and 'datetime.timedelta'"
     ]
    }
   ],
   "source": [
    "\n",
    "filename = '544_data.csv'\n",
    "unfiltered = data_preprocessing.read_data(filename)\n",
    "data = data_preprocessing.preprocess_data(unfiltered)\n",
    "\n",
    "time_step = data['glucose_level_ts'].diff().mode()[0] / timedelta(minutes=1)\n",
    "elements_per_4hours = 48\n",
    "\n",
    "glucose_sliced, glucose_seg_ts = data_slice.slice_data(data, time_step, elements_per_4hours)\n",
    "\n",
    "isolate_segment = find_peaks.isolate_segment(glucose_sliced, glucose_seg_ts)\n",
    "\n",
    "find_peaks.plot_glucose_segment(glucose_seg_ts[2], glucose_sliced)\n"
   ]
  }
 ],
 "metadata": {
  "kernelspec": {
   "display_name": "Python 3.10.7 64-bit",
   "language": "python",
   "name": "python3"
  },
  "language_info": {
   "codemirror_mode": {
    "name": "ipython",
    "version": 3
   },
   "file_extension": ".py",
   "mimetype": "text/x-python",
   "name": "python",
   "nbconvert_exporter": "python",
   "pygments_lexer": "ipython3",
   "version": "3.10.7"
  },
  "orig_nbformat": 4,
  "vscode": {
   "interpreter": {
    "hash": "aee8b7b246df8f9039afb4144a1f6fd8d2ca17a180786b69acc140d282b71a49"
   }
  }
 },
 "nbformat": 4,
 "nbformat_minor": 2
}
